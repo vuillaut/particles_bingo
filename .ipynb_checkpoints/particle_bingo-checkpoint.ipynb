{
 "cells": [
  {
   "cell_type": "markdown",
   "metadata": {},
   "source": [
    "# Particle bingo"
   ]
  },
  {
   "cell_type": "code",
   "execution_count": 4,
   "metadata": {},
   "outputs": [],
   "source": [
    "import matplotlib.pyplot as plt\n",
    "import matplotlib.image as mpimg\n",
    "from IPython.display import display, Markdown, Latex\n",
    "import numpy as np"
   ]
  },
  {
   "cell_type": "code",
   "execution_count": null,
   "metadata": {},
   "outputs": [],
   "source": []
  },
  {
   "cell_type": "code",
   "execution_count": null,
   "metadata": {},
   "outputs": [],
   "source": []
  },
  {
   "cell_type": "code",
   "execution_count": 5,
   "metadata": {},
   "outputs": [],
   "source": [
    "n = 4\n",
    "m = 4\n",
    "\n",
    "grid = np.zeros((n,m))"
   ]
  },
  {
   "cell_type": "code",
   "execution_count": 6,
   "metadata": {},
   "outputs": [
    {
     "data": {
      "text/markdown": [
       "| |\n",
       "|---------|-----------|------------|----------|\n",
       "| $\\mu$   | c         | t          | g        |\n",
       "| d       | s         | b          | $\\gamma$ |\n",
       "| $\n",
       "u_e$ | $\n",
       "u_\\mu$ | $\n",
       "u_\tau$ | W        |\n",
       "| e       | $\\mu$     | $\tau$     | Z        |\n"
      ],
      "text/plain": [
       "<IPython.core.display.Markdown object>"
      ]
     },
     "metadata": {},
     "output_type": "display_data"
    }
   ],
   "source": [
    "display(Markdown(\n",
    "\"| |\\n\"\n",
    "\"|---------|-----------|------------|----------|\\n\"\n",
    "\"| $\\mu$   | c         | t          | g        |\\n\"\n",
    "\"| d       | s         | b          | $\\gamma$ |\\n\"\n",
    "\"| $\\nu_e$ | $\\nu_\\mu$ | $\\nu_\\tau$ | W        |\\n\"\n",
    "\"| e       | $\\mu$     | $\\tau$     | Z        |\\n\"))"
   ]
  },
  {
   "cell_type": "markdown",
   "metadata": {},
   "source": [
    "| |\n",
    "|---------|-----------|------------|----------|\n",
    "| $\\mu$   | c         | t          | g        |\n",
    "| d       | s         | b          | $\\gamma$ |\n",
    "| $\\nu_e$ | $\\nu_\\mu$ | $\\nu_\\tau$ | W        |\n",
    "| e       | $\\mu$     | $\\tau$     | Z        |"
   ]
  },
  {
   "cell_type": "code",
   "execution_count": 7,
   "metadata": {},
   "outputs": [],
   "source": [
    "particles_names = ['u', 'c', 't', 'g', \n",
    "                   'd', 's', 'b', 'gamma', \n",
    "                   'nu_e', 'nu_mu', 'nu_tau', 'w',\n",
    "                   'e', 'mu', 'tau', 'z']"
   ]
  },
  {
   "cell_type": "code",
   "execution_count": 8,
   "metadata": {},
   "outputs": [],
   "source": [
    "src_dir = 'particles/'"
   ]
  },
  {
   "cell_type": "code",
   "execution_count": 59,
   "metadata": {},
   "outputs": [],
   "source": [
    "u = mpimg.imread(src_dir + 'u.png')\n",
    "c = mpimg.imread(src_dir + 'c.png')\n",
    "t = mpimg.imread(src_dir + 't.png')\n",
    "g = mpimg.imread(src_dir + 'g.png')\n",
    "d = mpimg.imread(src_dir + 'd.png')\n",
    "s = mpimg.imread(src_dir + 's.png')\n",
    "b = mpimg.imread(src_dir + 'b.png')\n",
    "gamma = mpimg.imread(src_dir + 'gamma.png')\n",
    "nu_e = mpimg.imread(src_dir + 'nu_e.png')\n",
    "nu_mu = mpimg.imread(src_dir + 'nu_mu.png')\n",
    "nu_tau = mpimg.imread(src_dir + 'nu_tau.png')\n",
    "w = mpimg.imread(src_dir + 'w.png')\n",
    "e = mpimg.imread(src_dir + 'e.png')\n",
    "mu = mpimg.imread(src_dir + 'mu.png')\n",
    "tau = mpimg.imread(src_dir + 'tau.png')\n",
    "z = mpimg.imread(src_dir + 'z.png')"
   ]
  },
  {
   "cell_type": "code",
   "execution_count": 45,
   "metadata": {},
   "outputs": [],
   "source": [
    "u = mpimg.imread(src_dir + 'u.png')\n",
    "c = mpimg.imread(src_dir + 'c.png')\n",
    "t = mpimg.imread(src_dir + 't.png')\n",
    "d = mpimg.imread(src_dir + 'd.png')\n",
    "s = mpimg.imread(src_dir + 's.png')\n",
    "b = mpimg.imread(src_dir + 'b.png')"
   ]
  },
  {
   "cell_type": "code",
   "execution_count": 60,
   "metadata": {},
   "outputs": [],
   "source": [
    "particles_images = [u, c, t, g, \n",
    "                    d, s, b, gamma, \n",
    "                    nu_e, nu_mu, nu_tau, w,\n",
    "                    e, mu, tau, z]"
   ]
  },
  {
   "cell_type": "code",
   "execution_count": 61,
   "metadata": {},
   "outputs": [],
   "source": [
    "particles_dic = {}\n",
    "for i,p in enumerate(particles_names):\n",
    "    particles_dic[p] = particles_images[i]"
   ]
  },
  {
   "cell_type": "code",
   "execution_count": 62,
   "metadata": {},
   "outputs": [
    {
     "data": {
      "text/plain": [
       "<matplotlib.image.AxesImage at 0x143a16828>"
      ]
     },
     "execution_count": 62,
     "metadata": {},
     "output_type": "execute_result"
    },
    {
     "data": {
      "image/png": "[encoded data removed]",
      "text/plain": [
       "<Figure size 432x288 with 1 Axes>"
      ]
     },
     "metadata": {},
     "output_type": "display_data"
    }
   ],
   "source": [
    "plt.imshow(tau)"
   ]
  },
  {
   "cell_type": "code",
   "execution_count": 63,
   "metadata": {},
   "outputs": [
    {
     "data": {
      "text/plain": [
       "<matplotlib.image.AxesImage at 0x10813b518>"
      ]
     },
     "execution_count": 63,
     "metadata": {},
     "output_type": "execute_result"
    },
    {
     "data": {
      "image/png": "[encoded data removed]",
      "text/plain": [
       "<Figure size 432x288 with 1 Axes>"
      ]
     },
     "metadata": {},
     "output_type": "display_data"
    }
   ],
   "source": [
    "plt.imshow(t)"
   ]
  },
  {
   "cell_type": "code",
   "execution_count": 64,
   "metadata": {},
   "outputs": [],
   "source": [
    "def remove_axes(ax):\n",
    "    ax.spines['right'].set_visible(False)\n",
    "    ax.spines['top'].set_visible(False)\n",
    "    ax.spines['bottom'].set_visible(False)\n",
    "    ax.spines['left'].set_visible(False)\n",
    "    ax.set_yticklabels([])\n",
    "    ax.set_xticklabels([])\n",
    "    ax.set_xticks([])\n",
    "    ax.set_yticks([])"
   ]
  },
  {
   "cell_type": "code",
   "execution_count": 67,
   "metadata": {},
   "outputs": [
    {
     "data": {
      "image/png": "[encoded data removed]",
      "text/plain": [
       "<Figure size 1008x1008 with 16 Axes>"
      ]
     },
     "metadata": {},
     "output_type": "display_data"
    }
   ],
   "source": [
    "fig, axes = plt.subplots(n,m, figsize=(14,14))\n",
    "for ax, p in zip(axes.ravel(), particles_names):\n",
    "    remove_axes(ax)\n",
    "    ax.imshow(particles_dic[p])"
   ]
  },
  {
   "cell_type": "code",
   "execution_count": 68,
   "metadata": {},
   "outputs": [],
   "source": [
    "fig.savefig(\"grids/complete.png\")"
   ]
  },
  {
   "cell_type": "code",
   "execution_count": 69,
   "metadata": {
    "scrolled": false
   },
   "outputs": [],
   "source": [
    "for number_grids in range(40):\n",
    "    for ax in axes.ravel():\n",
    "        ax.set_visible(True)\n",
    "\n",
    "    for k in range(m):\n",
    "        i = np.random.randint(0,4)\n",
    "        j=i\n",
    "        while j==i:\n",
    "            j = np.random.randint(0,4)\n",
    "        axes[k][i].set_visible(False)\n",
    "        axes[k][j].set_visible(False)\n",
    "    # display(fig)\n",
    "    fig.savefig(\"grids/{}.png\".format(number_grids))"
   ]
  },
  {
   "cell_type": "code",
   "execution_count": null,
   "metadata": {},
   "outputs": [],
   "source": []
  }
 ],
 "metadata": {
  "kernelspec": {
   "display_name": "Python 3",
   "language": "python",
   "name": "python3"
  },
  "language_info": {
   "codemirror_mode": {
    "name": "ipython",
    "version": 3
   },
   "file_extension": ".py",
   "mimetype": "text/x-python",
   "name": "python",
   "nbconvert_exporter": "python",
   "pygments_lexer": "ipython3",
   "version": "3.5.4"
  }
 },
 "nbformat": 4,
 "nbformat_minor": 2
}
